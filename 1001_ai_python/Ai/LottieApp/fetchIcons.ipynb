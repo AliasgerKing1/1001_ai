{
 "cells": [
  {
   "cell_type": "code",
   "execution_count": 8,
   "metadata": {},
   "outputs": [
    {
     "name": "stdout",
     "output_type": "stream",
     "text": [
      "Specific element not found on the page.\n"
     ]
    }
   ],
   "source": [
    "import requests\n",
    "from bs4 import BeautifulSoup\n",
    "\n",
    "# Define the URL you want to fetch\n",
    "url = 'https://app.lottiefiles.com/'  # Replace with your desired URL\n",
    "\n",
    "# Send an HTTP GET request to the URL\n",
    "response = requests.get(url)\n",
    "\n",
    "# Check if the request was successful (status code 200 indicates success)\n",
    "if response.status_code == 200:\n",
    "    # Parse the HTML content using BeautifulSoup\n",
    "    soup = BeautifulSoup(response.text, 'html.parser')\n",
    "\n",
    "    # Get the nicely formatted HTML code\n",
    "    formatted_html = soup.prettify()\n",
    "    file_path = 'soupL.html'\n",
    "    # Print or save the formatted HTML code as needed\n",
    "    with open(file_path, 'w', encoding='utf-8') as file:\n",
    "        file.write(formatted_html)\n",
    "# Use BeautifulSoup to extract specific data\n",
    "    # Replace 'your_selector' with the appropriate CSS selector or method to target the specific element(s)\n",
    "    specific_data_element = soup.find('div.inset-0:nth-child(3)')\n",
    "\n",
    "    if specific_data_element:\n",
    "        # Extract the data from the element\n",
    "        extracted_data = specific_data_element.get_text()\n",
    "\n",
    "        # Print or use the extracted data as needed\n",
    "        print(extracted_data)\n",
    "    else:\n",
    "        print(\"Specific element not found on the page.\")\n",
    "else:\n",
    "    print(f\"Failed to retrieve content. Status code: {response.status_code}\")"
   ]
  },
  {
   "cell_type": "code",
   "execution_count": 5,
   "metadata": {},
   "outputs": [
    {
     "name": "stderr",
     "output_type": "stream",
     "text": [
      "The version of firefox cannot be detected. Trying with latest driver version\n"
     ]
    },
    {
     "ename": "TimeoutException",
     "evalue": "Message: \nStacktrace:\nRemoteError@chrome://remote/content/shared/RemoteError.sys.mjs:8:8\nWebDriverError@chrome://remote/content/shared/webdriver/Errors.sys.mjs:187:5\nNoSuchElementError@chrome://remote/content/shared/webdriver/Errors.sys.mjs:505:5\nelement.find/</<@chrome://remote/content/marionette/element.sys.mjs:135:16\n",
     "output_type": "error",
     "traceback": [
      "\u001b[1;31m---------------------------------------------------------------------------\u001b[0m",
      "\u001b[1;31mTimeoutException\u001b[0m                          Traceback (most recent call last)",
      "Cell \u001b[1;32mIn[5], line 35\u001b[0m\n\u001b[0;32m     32\u001b[0m \u001b[39m# click on firsname input box\u001b[39;00m\n\u001b[0;32m     33\u001b[0m login_btn\u001b[39m.\u001b[39mclick()\n\u001b[1;32m---> 35\u001b[0m goToDashboard \u001b[39m=\u001b[39m wait\u001b[39m.\u001b[39;49muntil(ec\u001b[39m.\u001b[39;49melement_to_be_clickable((By\u001b[39m.\u001b[39;49mXPATH,\u001b[39m\"\u001b[39;49m\u001b[39m/html/body/div[1]/div/div[1]/div/div/div[2]/div/div[2]/div/div[1]/a\u001b[39;49m\u001b[39m\"\u001b[39;49m)))\n\u001b[0;32m     36\u001b[0m \u001b[39m# click on firsname input box\u001b[39;00m\n\u001b[0;32m     37\u001b[0m goToDashboard\u001b[39m.\u001b[39mclick()\n",
      "File \u001b[1;32mc:\\Users\\Aliasger B\\AppData\\Local\\Programs\\Python\\Python311\\Lib\\site-packages\\selenium\\webdriver\\support\\wait.py:95\u001b[0m, in \u001b[0;36mWebDriverWait.until\u001b[1;34m(self, method, message)\u001b[0m\n\u001b[0;32m     93\u001b[0m     \u001b[39mif\u001b[39;00m time\u001b[39m.\u001b[39mmonotonic() \u001b[39m>\u001b[39m end_time:\n\u001b[0;32m     94\u001b[0m         \u001b[39mbreak\u001b[39;00m\n\u001b[1;32m---> 95\u001b[0m \u001b[39mraise\u001b[39;00m TimeoutException(message, screen, stacktrace)\n",
      "\u001b[1;31mTimeoutException\u001b[0m: Message: \nStacktrace:\nRemoteError@chrome://remote/content/shared/RemoteError.sys.mjs:8:8\nWebDriverError@chrome://remote/content/shared/webdriver/Errors.sys.mjs:187:5\nNoSuchElementError@chrome://remote/content/shared/webdriver/Errors.sys.mjs:505:5\nelement.find/</<@chrome://remote/content/marionette/element.sys.mjs:135:16\n"
     ]
    }
   ],
   "source": [
    "from selenium import webdriver\n",
    "from selenium.webdriver.support.ui import WebDriverWait\n",
    "from selenium.webdriver.chrome.options import Options\n",
    "from selenium.webdriver.common.by import By\n",
    "from selenium.webdriver.common.keys import Keys\n",
    "from selenium.webdriver.support import expected_conditions as ec\n",
    "import time\n",
    "\n",
    "# URL of the specific page you want to retrieve\n",
    "url = 'https://app.lottiefiles.com/'  # Replace with your desired URL\n",
    "\n",
    "driver = webdriver.Firefox()\n",
    "\n",
    "# Maximize the browser window\n",
    "driver.maximize_window()\n",
    "\n",
    "# Navigate to the URL\n",
    "driver.get(url)\n",
    "\n",
    "# Wait for the page to load (adjust the timeout as needed)\n",
    "wait = WebDriverWait(driver, 10)\n",
    "\n",
    "email_input = wait.until(ec.visibility_of_element_located((By.NAME, \"email\")))\n",
    "# click on firsname input box\n",
    "email_input.send_keys(\"qRSKTaJjnA@gmail.com\")\n",
    "\n",
    "password_input = wait.until(ec.visibility_of_element_located((By.NAME, \"password\")))\n",
    "# click on firsname input box\n",
    "password_input.send_keys(\"-A1li@sge3939\")\n",
    "\n",
    "login_btn = wait.until(ec.visibility_of_element_located((By.XPATH, \"/html/body/div[1]/div/div/div[2]/div/div/div/div/form/div/div/div[3]/button\")))\n",
    "# click on firsname input box\n",
    "login_btn.click()\n",
    "\n",
    "goToDashboard = wait.until(ec.element_to_be_clickable((By.XPATH,\"/html/body/div[1]/div/div[1]/div/div/div[2]/div/div[2]/div/div[1]/a\")))\n",
    "# click on firsname input box\n",
    "goToDashboard.click()\n",
    "\n",
    "wait.until(ec.presence_of_element_located((By.TAG_NAME, 'body')))\n",
    "\n",
    "# Retrieve the HTML source code of the page\n",
    "page_source = driver.page_source\n",
    "time.sleep(20)\n",
    "# Print or save the HTML source code as needed\n",
    "file_path = 'page_source.html'\n",
    "with open(file_path, 'w', encoding='utf-8') as file:\n",
    "    file.write(page_source)\n",
    "\n",
    "# Close the WebDriver\n",
    "driver.quit()\n"
   ]
  },
  {
   "cell_type": "code",
   "execution_count": 23,
   "metadata": {},
   "outputs": [
    {
     "name": "stderr",
     "output_type": "stream",
     "text": [
      "The version of firefox cannot be detected. Trying with latest driver version\n"
     ]
    },
    {
     "ename": "TimeoutException",
     "evalue": "Message: \nStacktrace:\nRemoteError@chrome://remote/content/shared/RemoteError.sys.mjs:8:8\nWebDriverError@chrome://remote/content/shared/webdriver/Errors.sys.mjs:187:5\nNoSuchElementError@chrome://remote/content/shared/webdriver/Errors.sys.mjs:505:5\nelement.find/</<@chrome://remote/content/marionette/element.sys.mjs:135:16\n",
     "output_type": "error",
     "traceback": [
      "\u001b[1;31m---------------------------------------------------------------------------\u001b[0m",
      "\u001b[1;31mTimeoutException\u001b[0m                          Traceback (most recent call last)",
      "Cell \u001b[1;32mIn[23], line 32\u001b[0m\n\u001b[0;32m     29\u001b[0m login_btn\u001b[39m.\u001b[39mclick()\n\u001b[0;32m     31\u001b[0m wait\u001b[39m.\u001b[39muntil(ec\u001b[39m.\u001b[39mpresence_of_element_located((By\u001b[39m.\u001b[39mCSS_SELECTOR, \u001b[39m'\u001b[39m\u001b[39m.h-screen\u001b[39m\u001b[39m'\u001b[39m)))\n\u001b[1;32m---> 32\u001b[0m wait\u001b[39m.\u001b[39;49muntil(ec\u001b[39m.\u001b[39;49mvisibility_of_element_located((By\u001b[39m.\u001b[39;49mXPATH, \u001b[39m'\u001b[39;49m\u001b[39m/html/body/div[1]/div[2]/div[1]/div/div[2]/div[2]/div[1]/div/div/div[1]\u001b[39;49m\u001b[39m'\u001b[39;49m)))\n\u001b[0;32m     34\u001b[0m \u001b[39m# Retrieve the HTML source code of the page\u001b[39;00m\n\u001b[0;32m     35\u001b[0m page_source \u001b[39m=\u001b[39m driver\u001b[39m.\u001b[39mpage_source\n",
      "File \u001b[1;32mc:\\Users\\Aliasger B\\AppData\\Local\\Programs\\Python\\Python311\\Lib\\site-packages\\selenium\\webdriver\\support\\wait.py:95\u001b[0m, in \u001b[0;36mWebDriverWait.until\u001b[1;34m(self, method, message)\u001b[0m\n\u001b[0;32m     93\u001b[0m     \u001b[39mif\u001b[39;00m time\u001b[39m.\u001b[39mmonotonic() \u001b[39m>\u001b[39m end_time:\n\u001b[0;32m     94\u001b[0m         \u001b[39mbreak\u001b[39;00m\n\u001b[1;32m---> 95\u001b[0m \u001b[39mraise\u001b[39;00m TimeoutException(message, screen, stacktrace)\n",
      "\u001b[1;31mTimeoutException\u001b[0m: Message: \nStacktrace:\nRemoteError@chrome://remote/content/shared/RemoteError.sys.mjs:8:8\nWebDriverError@chrome://remote/content/shared/webdriver/Errors.sys.mjs:187:5\nNoSuchElementError@chrome://remote/content/shared/webdriver/Errors.sys.mjs:505:5\nelement.find/</<@chrome://remote/content/marionette/element.sys.mjs:135:16\n"
     ]
    }
   ],
   "source": [
    "from selenium import webdriver\n",
    "from selenium.webdriver.common.by import By\n",
    "from selenium.webdriver.support.ui import WebDriverWait\n",
    "from selenium.webdriver.support import expected_conditions as ec\n",
    "from bs4 import BeautifulSoup\n",
    "\n",
    "# URL of the specific page you want to retrieve\n",
    "url = 'https://app.lottiefiles.com/'  # Replace with your desired URL\n",
    "\n",
    "# Initialize the WebDriver\n",
    "driver = webdriver.Firefox()\n",
    "\n",
    "# Maximize the browser window\n",
    "driver.maximize_window()\n",
    "\n",
    "# Navigate to the URL\n",
    "driver.get(url)\n",
    "\n",
    "# Wait for the page to load (adjust the timeout as needed)\n",
    "wait = WebDriverWait(driver, 10)\n",
    "\n",
    "email_input = wait.until(ec.visibility_of_element_located((By.NAME, \"email\")))\n",
    "email_input.send_keys(\"ser.n.a.v.il.l.ares@gmail.com\")\n",
    "\n",
    "password_input = wait.until(ec.visibility_of_element_located((By.NAME, \"password\")))\n",
    "password_input.send_keys(\"-A1li@sge3939\")\n",
    "\n",
    "login_btn = wait.until(ec.visibility_of_element_located((By.XPATH, \"/html/body/div[1]/div/div/div[2]/div/div/div/div/form/div/div/div[3]/button\")))\n",
    "login_btn.click()\n",
    "\n",
    "wait.until(ec.presence_of_element_located((By.CSS_SELECTOR, '.h-screen')))\n",
    "# Retrieve the HTML source code of the page\n",
    "page_source = driver.page_source\n",
    "# Print or save the HTML source code as needed\n",
    "\n",
    "soup = BeautifulSoup(page_source, 'html.parser')\n",
    "\n",
    "# # Find the div by its attributes or text, you may need to inspect the div element in the page source\n",
    "# # For example, if the div has a specific class name:\n",
    "# div = soup.find('div', class_='c-cQoHGB rounded-lg')\n",
    "\n",
    "# if div:\n",
    "#     # Do something with the div element\n",
    "#     print(\"Div found:\", div.text)\n",
    "# else:\n",
    "#     print(\"Div not found\")\n",
    "\n",
    "file_path = 'page_source.html'\n",
    "with open(file_path, 'w', encoding='utf-8') as file:\n",
    "    file.write(page_source)\n",
    "\n",
    "# Close the WebDriver\n",
    "# driver.quit()\n"
   ]
  },
  {
   "cell_type": "code",
   "execution_count": null,
   "metadata": {},
   "outputs": [],
   "source": []
  }
 ],
 "metadata": {
  "kernelspec": {
   "display_name": "Python 3",
   "language": "python",
   "name": "python3"
  },
  "language_info": {
   "codemirror_mode": {
    "name": "ipython",
    "version": 3
   },
   "file_extension": ".py",
   "mimetype": "text/x-python",
   "name": "python",
   "nbconvert_exporter": "python",
   "pygments_lexer": "ipython3",
   "version": "3.11.4"
  },
  "orig_nbformat": 4
 },
 "nbformat": 4,
 "nbformat_minor": 2
}
