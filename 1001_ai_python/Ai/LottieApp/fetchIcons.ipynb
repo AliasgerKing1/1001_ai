{
 "cells": [
  {
   "cell_type": "code",
   "execution_count": 8,
   "metadata": {},
   "outputs": [
    {
     "name": "stdout",
     "output_type": "stream",
     "text": [
      "Specific element not found on the page.\n"
     ]
    }
   ],
   "source": [
    "import requests\n",
    "from bs4 import BeautifulSoup\n",
    "\n",
    "# Define the URL you want to fetch\n",
    "url = 'https://app.lottiefiles.com/'  # Replace with your desired URL\n",
    "\n",
    "# Send an HTTP GET request to the URL\n",
    "response = requests.get(url)\n",
    "\n",
    "# Check if the request was successful (status code 200 indicates success)\n",
    "if response.status_code == 200:\n",
    "    # Parse the HTML content using BeautifulSoup\n",
    "    soup = BeautifulSoup(response.text, 'html.parser')\n",
    "\n",
    "    # Get the nicely formatted HTML code\n",
    "    formatted_html = soup.prettify()\n",
    "    file_path = 'soupL.html'\n",
    "    # Print or save the formatted HTML code as needed\n",
    "    with open(file_path, 'w', encoding='utf-8') as file:\n",
    "        file.write(formatted_html)\n",
    "# Use BeautifulSoup to extract specific data\n",
    "    # Replace 'your_selector' with the appropriate CSS selector or method to target the specific element(s)\n",
    "    specific_data_element = soup.find('div.inset-0:nth-child(3)')\n",
    "\n",
    "    if specific_data_element:\n",
    "        # Extract the data from the element\n",
    "        extracted_data = specific_data_element.get_text()\n",
    "\n",
    "        # Print or use the extracted data as needed\n",
    "        print(extracted_data)\n",
    "    else:\n",
    "        print(\"Specific element not found on the page.\")\n",
    "else:\n",
    "    print(f\"Failed to retrieve content. Status code: {response.status_code}\")"
   ]
  },
  {
   "cell_type": "code",
   "execution_count": 14,
   "metadata": {},
   "outputs": [
    {
     "name": "stderr",
     "output_type": "stream",
     "text": [
      "The version of firefox cannot be detected. Trying with latest driver version\n"
     ]
    }
   ],
   "source": [
    "from selenium import webdriver\n",
    "from selenium.webdriver.support.ui import WebDriverWait\n",
    "from selenium.webdriver.chrome.options import Options\n",
    "from selenium.webdriver.common.by import By\n",
    "from selenium.webdriver.common.keys import Keys\n",
    "from selenium.webdriver.support import expected_conditions as ec\n",
    "import time\n",
    "\n",
    "# URL of the specific page you want to retrieve\n",
    "url = 'https://app.lottiefiles.com/'  # Replace with your desired URL\n",
    "\n",
    "driver = webdriver.Firefox()\n",
    "\n",
    "# Maximize the browser window\n",
    "driver.maximize_window()\n",
    "\n",
    "# Navigate to the URL\n",
    "driver.get(url)\n",
    "\n",
    "# Wait for the page to load (adjust the timeout as needed)\n",
    "wait = WebDriverWait(driver, 10)\n",
    "\n",
    "email_input = wait.until(ec.visibility_of_element_located((By.NAME, \"email\")))\n",
    "# click on firsname input box\n",
    "email_input.send_keys(\"qRSKTaJjnA@gmail.com\")\n",
    "\n",
    "password_input = wait.until(ec.visibility_of_element_located((By.NAME, \"password\")))\n",
    "# click on firsname input box\n",
    "password_input.send_keys(\"-A1li@sge3939\")\n",
    "\n",
    "login_btn = wait.until(ec.visibility_of_element_located((By.XPATH, \"/html/body/div[1]/div/div/div[2]/div/div/div/div/form/div/div/div[3]/button\")))\n",
    "# click on firsname input box\n",
    "login_btn.click()\n",
    "\n",
    "wait.until(ec.presence_of_element_located((By.TAG_NAME, 'body')))\n",
    "\n",
    "# Retrieve the HTML source code of the page\n",
    "page_source = driver.page_source\n",
    "time.sleep(20)\n",
    "# Print or save the HTML source code as needed\n",
    "file_path = 'page_source.html'\n",
    "with open(file_path, 'w', encoding='utf-8') as file:\n",
    "    file.write(page_source)\n",
    "\n",
    "# Close the WebDriver\n",
    "driver.quit()\n"
   ]
  },
  {
   "cell_type": "code",
   "execution_count": 6,
   "metadata": {},
   "outputs": [
    {
     "name": "stderr",
     "output_type": "stream",
     "text": [
      "The version of firefox cannot be detected. Trying with latest driver version\n"
     ]
    },
    {
     "name": "stdout",
     "output_type": "stream",
     "text": [
      "Current Page URL: https://accounts.lottiefiles.com/login?return_to=https%3A%2F%2Fapp.lottiefiles.com%2F\n"
     ]
    }
   ],
   "source": [
    "from selenium import webdriver\n",
    "from selenium.webdriver.common.by import By\n",
    "from selenium.webdriver.support.ui import WebDriverWait\n",
    "from selenium.webdriver.support import expected_conditions as EC\n",
    "\n",
    "# URL of the specific page you want to retrieve\n",
    "url = 'https://app.lottiefiles.com/'  # Replace with your desired URL\n",
    "\n",
    "# Initialize the WebDriver\n",
    "driver = webdriver.Firefox()\n",
    "\n",
    "# Maximize the browser window\n",
    "driver.maximize_window()\n",
    "\n",
    "# Navigate to the URL\n",
    "driver.get(url)\n",
    "\n",
    "# Wait for the page to load (adjust the timeout as needed)\n",
    "wait = WebDriverWait(driver, 10)\n",
    "\n",
    "email_input = wait.until(EC.visibility_of_element_located((By.NAME, \"email\")))\n",
    "email_input.send_keys(\"BxrlWPLQSX@gmail.com\")\n",
    "\n",
    "password_input = wait.until(EC.visibility_of_element_located((By.NAME, \"password\")))\n",
    "password_input.send_keys(\"-A1li@sge3939\")\n",
    "\n",
    "login_btn = wait.until(EC.visibility_of_element_located((By.XPATH, \"/html/body/div[1]/div/div/div[2]/div/div/div/div/form/div/div/div[3]/button\")))\n",
    "login_btn.click()\n",
    "\n",
    "# Wait for the new page to load after logging in\n",
    "wait.until(EC.presence_of_element_located((By.TAG_NAME, 'body')))\n",
    "\n",
    "# Get the URL of the current page\n",
    "current_page_url = driver.current_url\n",
    "\n",
    "# Print the URL of the current page\n",
    "print(\"Current Page URL:\", current_page_url)\n",
    "\n",
    "# Close the WebDriver\n",
    "# driver.quit()\n"
   ]
  },
  {
   "cell_type": "code",
   "execution_count": null,
   "metadata": {},
   "outputs": [],
   "source": []
  }
 ],
 "metadata": {
  "kernelspec": {
   "display_name": "Python 3",
   "language": "python",
   "name": "python3"
  },
  "language_info": {
   "codemirror_mode": {
    "name": "ipython",
    "version": 3
   },
   "file_extension": ".py",
   "mimetype": "text/x-python",
   "name": "python",
   "nbconvert_exporter": "python",
   "pygments_lexer": "ipython3",
   "version": "3.11.4"
  },
  "orig_nbformat": 4
 },
 "nbformat": 4,
 "nbformat_minor": 2
}
