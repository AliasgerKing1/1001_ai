{
 "cells": [
  {
   "cell_type": "code",
   "execution_count": 1,
   "metadata": {},
   "outputs": [],
   "source": [
    "from selenium import webdriver\n",
    "from selenium.webdriver.support.ui import WebDriverWait\n",
    "from selenium.webdriver.chrome.options import Options\n",
    "from selenium.webdriver.common.by import By\n",
    "from selenium.webdriver.common.keys import Keys\n",
    "from selenium.webdriver.support import expected_conditions as ec\n",
    "import time\n",
    "import pyautogui\n",
    "import keyboard\n"
   ]
  },
  {
   "cell_type": "code",
   "execution_count": 34,
   "metadata": {},
   "outputs": [
    {
     "name": "stderr",
     "output_type": "stream",
     "text": [
      "The version of firefox cannot be detected. Trying with latest driver version\n"
     ]
    }
   ],
   "source": [
    "driver = webdriver.Firefox()\n",
    "\n",
    "driver.get('https://app.leonardo.ai/auth/login')\n",
    "\n",
    "wait = WebDriverWait(driver, 15)\n",
    "email_input = wait.until(ec.visibility_of_element_located((By.NAME, \"email\")))\n",
    "email_input.send_keys('ru.tte.rsa.mu.el.e@googlemail.com')\n",
    "\n",
    "password_input = wait.until(ec.visibility_of_element_located((By.NAME, \"password\")))\n",
    "password_input.send_keys('-A1li@sge3939')\n",
    "\n",
    "signinBtn = wait.until(ec.element_to_be_clickable((By.XPATH, '/html/body/div[1]/div/div[2]/div/div[1]/div[2]/div[2]/div[1]/form/div/button')))\n",
    "signinBtn.click()\n",
    "# while True :\n",
    "#     if keyboard.is_pressed('ctrl+q'):\n",
    "#         print(\"Exiting the loop...\")\n",
    "#         break\n",
    "nextBtn1 = wait.until(ec.presence_of_element_located((By.XPATH, '/html/body/div[1]/div[2]/div/div/div[3]/div/section/footer/div/button[2]')))\n",
    "nextBtn1.click()\n",
    "pyautogui.click(1245, 477)\n",
    "pyautogui.click(1245, 477)\n",
    "image_gen_tab = wait.until(ec.element_to_be_clickable((By.XPATH, '/html/body/div[1]/div[1]/div[1]/div/div[3]/div[4]/a[1]')))\n",
    "image_gen_tab.click()\n",
    "nextBtn2 = wait.until(ec.element_to_be_clickable((By.XPATH, '/html/body/div[1]/div[2]/div/div/div[3]/div/section/footer/div/button[2]')))\n",
    "nextBtn2.click()\n",
    "\n",
    "pyautogui.click(1245, 477)\n",
    "\n",
    "# single_image = wait.until(ec.visibility_of_element_located((By.XPATH, '/html/body/div[1]/div[1]/div[2]/div/div/div[1]/div/div/div/div[2]/div/div[2]/div/div/label[1]/div')))\n",
    "# single_image.click()\n",
    "\n",
    "# single_image = wait.until(ec.visibility_of_element_located((By.XPATH, '/html/body/div[1]/div[1]/div[2]/div/div/div[1]/div/div/div/div[2]/div/div[2]/div/div/label[2]/div')))\n",
    "# single_image.click()\n",
    "\n",
    "# prompt_textarea = wait.until(ec.visibility_of_element_located((By.XPATH, \"/html/body/div[1]/div[1]/div[2]/div/div/div[2]/div[2]/textarea\")))\n",
    "# prompt_textarea.send_keys('Create an eerie, mysterious forest scene cloaked in darkness. Visualize towering, gnarled trees shrouded in mist, their twisted branches reaching out like skeletal fingers. Envision a path leading deeper into the heart of the forest, where shadows dance and secrets are hidden. Capture the haunting beauty and the sense of foreboding in this dark forest')\n",
    "\n",
    "# generateBtn = wait.until(ec.element_to_be_clickable((By.XPATH, '/html/body/div[1]/div[1]/div[2]/div/div/div[3]/div[5]/div[4]')))\n",
    "# generateBtn.click()\n",
    "\n",
    "# in to execute_script method\n",
    "js_code = \"arguments[0].scrollIntoView();\"\n",
    "\n",
    "downloadBtnScript = driver.find_element(By.XPATH, '/html/body/div[1]/div[1]/div[2]/div/div/div[4]/div[2]/div[1]/div/div[2]/div[2]/div[2]/div[1]/div/div/div[2]')\n",
    "# Execute the JS script\n",
    "driver.execute_script(js_code, downloadBtnScript)\n",
    "\n",
    "pyautogui.moveTo(452,600)\n"
   ]
  },
  {
   "cell_type": "code",
   "execution_count": null,
   "metadata": {},
   "outputs": [],
   "source": []
  }
 ],
 "metadata": {
  "kernelspec": {
   "display_name": "Python 3",
   "language": "python",
   "name": "python3"
  },
  "language_info": {
   "codemirror_mode": {
    "name": "ipython",
    "version": 3
   },
   "file_extension": ".py",
   "mimetype": "text/x-python",
   "name": "python",
   "nbconvert_exporter": "python",
   "pygments_lexer": "ipython3",
   "version": "3.11.4"
  },
  "orig_nbformat": 4
 },
 "nbformat": 4,
 "nbformat_minor": 2
}
