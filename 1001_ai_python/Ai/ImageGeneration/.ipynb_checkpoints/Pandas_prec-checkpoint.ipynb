{
 "cells": [
  {
   "cell_type": "markdown",
   "id": "506dbe64-ef9a-4c0c-a094-c85aec6c607f",
   "metadata": {},
   "source": [
    "Series(1d)"
   ]
  },
  {
   "cell_type": "code",
   "execution_count": 18,
   "id": "7cb4040d-1fc5-4141-a35c-c45cd3bf069a",
   "metadata": {},
   "outputs": [
    {
     "name": "stdout",
     "output_type": "stream",
     "text": [
      "0      1\n",
      "1      2\n",
      "2      4\n",
      "3      7\n",
      "4     23\n",
      "5      8\n",
      "6     36\n",
      "7      7\n",
      "8      2\n",
      "9     78\n",
      "10    23\n",
      "Name: Python pandas, dtype: int64\n"
     ]
    }
   ],
   "source": [
    "import pandas as pd\n",
    "x = [1,2,4,7,23,8,36,7,2,78,23]\n",
    "\n",
    "# N_series = pd.Series(x, index=['a', 'g', 'y'], dtype='float')\n",
    "N_series = pd.Series(x, name='Python pandas')\n",
    "print(N_series)"
   ]
  },
  {
   "cell_type": "markdown",
   "id": "d929d880-a83c-43d3-8091-7098ad3b706a",
   "metadata": {},
   "source": [
    "Use Dicitinary as Parameter"
   ]
  },
  {
   "cell_type": "code",
   "execution_count": 19,
   "id": "e8774462-e843-4f56-ae7c-66abc0132e38",
   "metadata": {},
   "outputs": [
    {
     "name": "stdout",
     "output_type": "stream",
     "text": [
      "Name    [Python, C, C++, Java]\n",
      "rank              [1, 4, 3, 2]\n",
      "por              [42, 1, 4, 6]\n",
      "dtype: object\n"
     ]
    }
   ],
   "source": [
    "import pandas as pd\n",
    "\n",
    "dic = {'Name'  : [\"Python\", \"C\", \"C++\", \"Java\"], \"rank\" : [1,4,3,2], \"por\" : [42,1,4,6]}\n",
    "\n",
    "n = pd.Series(dic)\n",
    "\n",
    "print(n)"
   ]
  },
  {
   "cell_type": "code",
   "execution_count": 20,
   "id": "c5a7211c-1834-407d-bbda-52661112ef8e",
   "metadata": {},
   "outputs": [
    {
     "name": "stdout",
     "output_type": "stream",
     "text": [
      "1    24.0\n",
      "2    24.0\n",
      "3    24.0\n",
      "4    24.0\n",
      "5     NaN\n",
      "6     NaN\n",
      "7     NaN\n",
      "dtype: float64\n"
     ]
    }
   ],
   "source": [
    "import pandas as pd\n",
    "\n",
    "s1 = pd.Series(12, index=[1,2,3,4,5,6,7])\n",
    "s2 = pd.Series(12, index=[1,2,3,4])\n",
    "\n",
    "print(s1 + s2)"
   ]
  },
  {
   "cell_type": "markdown",
   "id": "c114e605-0d95-49d9-bee1-39c069bce2d3",
   "metadata": {},
   "source": [
    "DataFrame(2d)"
   ]
  },
  {
   "cell_type": "code",
   "execution_count": 4,
   "id": "3fc08f23-a3fa-49b9-bb00-138b8e45bc94",
   "metadata": {},
   "outputs": [
    {
     "name": "stdout",
     "output_type": "stream",
     "text": [
      "   0\n",
      "0  1\n",
      "1  2\n",
      "2  4\n",
      "3  5\n",
      "4  3\n"
     ]
    }
   ],
   "source": [
    "import pandas as pd\n",
    "\n",
    "l = [1,2,4,5,3]\n",
    "\n",
    "\n",
    "n = pd.DataFrame(l)\n",
    "\n",
    "print(n)"
   ]
  },
  {
   "cell_type": "code",
   "execution_count": 6,
   "id": "0d79f2bb-74b3-4b1b-86fb-9c476afe54db",
   "metadata": {},
   "outputs": [
    {
     "name": "stdout",
     "output_type": "stream",
     "text": [
      "   rank  por\n",
      "0     1   42\n",
      "1     4    1\n",
      "2     3    4\n",
      "3     2    6\n"
     ]
    }
   ],
   "source": [
    "import pandas as pd\n",
    "dic = {\"rank\" : [1,4,3,2], \"por\" : [42,1,4,6]}\n",
    "\n",
    "n = pd.DataFrame(dic)\n",
    "\n",
    "print(n)\n"
   ]
  },
  {
   "cell_type": "code",
   "execution_count": 8,
   "id": "ffea6d3d-4dc8-4921-b6b4-baaabe973e65",
   "metadata": {},
   "outputs": [
    {
     "name": "stdout",
     "output_type": "stream",
     "text": [
      "   rank\n",
      "0     1\n",
      "1     4\n",
      "2     3\n",
      "3     2\n"
     ]
    }
   ],
   "source": [
    "import pandas as pd\n",
    "dic = {\"rank\" : [1,4,3,2], \"por\" : [42,1,4,6]}\n",
    "\n",
    "n = pd.DataFrame(dic, columns=[\"rank\"])\n",
    "\n",
    "print(n)\n"
   ]
  },
  {
   "cell_type": "code",
   "execution_count": 9,
   "id": "f0667e2e-864a-4731-bbf9-2d2bd332b86c",
   "metadata": {},
   "outputs": [
    {
     "name": "stdout",
     "output_type": "stream",
     "text": [
      "3\n"
     ]
    }
   ],
   "source": [
    "import pandas as pd\n",
    "dic = {\"rank\" : [1,4,3,2], \"por\" : [42,1,4,6]}\n",
    "\n",
    "n = pd.DataFrame(dic)\n",
    "\n",
    "print(n[\"rank\"][2])\n"
   ]
  },
  {
   "cell_type": "code",
   "execution_count": 10,
   "id": "f9aa3ac5-b718-4c90-bf23-b6272efc8454",
   "metadata": {},
   "outputs": [
    {
     "name": "stdout",
     "output_type": "stream",
     "text": [
      "    0  1  2  3\n",
      "0   1  4  3  2\n",
      "1  42  1  4  6\n"
     ]
    }
   ],
   "source": [
    "import pandas as pd\n",
    "lst = [[1,4,3,2],[42,1,4,6]]\n",
    "\n",
    "n = pd.DataFrame(lst)\n",
    "\n",
    "print(n)\n"
   ]
  },
  {
   "cell_type": "code",
   "execution_count": 12,
   "id": "0ea4d453-bcdd-4f92-b1d7-ce1b3f57c870",
   "metadata": {},
   "outputs": [
    {
     "name": "stdout",
     "output_type": "stream",
     "text": [
      "   s   r\n",
      "0  1  42\n",
      "1  4   1\n",
      "2  3   4\n",
      "3  2   6\n"
     ]
    }
   ],
   "source": [
    "import pandas as pd\n",
    "sr = {\"s\" : pd.Series([1,4,3,2]), \"r\" : pd.Series([42,1,4,6])}\n",
    "\n",
    "n = pd.DataFrame(sr)\n",
    "\n",
    "print(n)\n"
   ]
  },
  {
   "cell_type": "markdown",
   "id": "42b5c035-416d-4e8a-9bf8-2052e3655b79",
   "metadata": {},
   "source": [
    "Arithmatics Operation in Pandas"
   ]
  },
  {
   "cell_type": "code",
   "execution_count": 13,
   "id": "ea66df46-1de6-44b4-8e86-38303e3b1406",
   "metadata": {},
   "outputs": [
    {
     "data": {
      "text/html": [
       "<div>\n",
       "<style scoped>\n",
       "    .dataframe tbody tr th:only-of-type {\n",
       "        vertical-align: middle;\n",
       "    }\n",
       "\n",
       "    .dataframe tbody tr th {\n",
       "        vertical-align: top;\n",
       "    }\n",
       "\n",
       "    .dataframe thead th {\n",
       "        text-align: right;\n",
       "    }\n",
       "</style>\n",
       "<table border=\"1\" class=\"dataframe\">\n",
       "  <thead>\n",
       "    <tr style=\"text-align: right;\">\n",
       "      <th></th>\n",
       "      <th>A</th>\n",
       "      <th>B</th>\n",
       "    </tr>\n",
       "  </thead>\n",
       "  <tbody>\n",
       "    <tr>\n",
       "      <th>0</th>\n",
       "      <td>1</td>\n",
       "      <td>5</td>\n",
       "    </tr>\n",
       "    <tr>\n",
       "      <th>1</th>\n",
       "      <td>2</td>\n",
       "      <td>6</td>\n",
       "    </tr>\n",
       "    <tr>\n",
       "      <th>2</th>\n",
       "      <td>3</td>\n",
       "      <td>7</td>\n",
       "    </tr>\n",
       "    <tr>\n",
       "      <th>3</th>\n",
       "      <td>4</td>\n",
       "      <td>8</td>\n",
       "    </tr>\n",
       "  </tbody>\n",
       "</table>\n",
       "</div>"
      ],
      "text/plain": [
       "   A  B\n",
       "0  1  5\n",
       "1  2  6\n",
       "2  3  7\n",
       "3  4  8"
      ]
     },
     "execution_count": 13,
     "metadata": {},
     "output_type": "execute_result"
    }
   ],
   "source": [
    "import pandas as pd\n",
    "\n",
    "var1 = pd.DataFrame({\"A\" : [1,2,3,4], \"B\" : [5,6,7,8]})\n",
    "\n",
    "var1"
   ]
  },
  {
   "cell_type": "code",
   "execution_count": 14,
   "id": "3355046c-f178-4515-bfcf-1440e3121672",
   "metadata": {},
   "outputs": [
    {
     "data": {
      "text/html": [
       "<div>\n",
       "<style scoped>\n",
       "    .dataframe tbody tr th:only-of-type {\n",
       "        vertical-align: middle;\n",
       "    }\n",
       "\n",
       "    .dataframe tbody tr th {\n",
       "        vertical-align: top;\n",
       "    }\n",
       "\n",
       "    .dataframe thead th {\n",
       "        text-align: right;\n",
       "    }\n",
       "</style>\n",
       "<table border=\"1\" class=\"dataframe\">\n",
       "  <thead>\n",
       "    <tr style=\"text-align: right;\">\n",
       "      <th></th>\n",
       "      <th>A</th>\n",
       "      <th>B</th>\n",
       "      <th>C</th>\n",
       "    </tr>\n",
       "  </thead>\n",
       "  <tbody>\n",
       "    <tr>\n",
       "      <th>0</th>\n",
       "      <td>1</td>\n",
       "      <td>5</td>\n",
       "      <td>6</td>\n",
       "    </tr>\n",
       "    <tr>\n",
       "      <th>1</th>\n",
       "      <td>2</td>\n",
       "      <td>6</td>\n",
       "      <td>8</td>\n",
       "    </tr>\n",
       "    <tr>\n",
       "      <th>2</th>\n",
       "      <td>3</td>\n",
       "      <td>7</td>\n",
       "      <td>10</td>\n",
       "    </tr>\n",
       "    <tr>\n",
       "      <th>3</th>\n",
       "      <td>4</td>\n",
       "      <td>8</td>\n",
       "      <td>12</td>\n",
       "    </tr>\n",
       "  </tbody>\n",
       "</table>\n",
       "</div>"
      ],
      "text/plain": [
       "   A  B   C\n",
       "0  1  5   6\n",
       "1  2  6   8\n",
       "2  3  7  10\n",
       "3  4  8  12"
      ]
     },
     "execution_count": 14,
     "metadata": {},
     "output_type": "execute_result"
    }
   ],
   "source": [
    "var1[\"C\"] = var1[\"A\"] + var1[\"B\"]\n",
    "var1"
   ]
  },
  {
   "cell_type": "code",
   "execution_count": 18,
   "id": "6d0e0eb9-f3b9-48dd-bd14-7e0d77a1acad",
   "metadata": {},
   "outputs": [
    {
     "data": {
      "text/html": [
       "<div>\n",
       "<style scoped>\n",
       "    .dataframe tbody tr th:only-of-type {\n",
       "        vertical-align: middle;\n",
       "    }\n",
       "\n",
       "    .dataframe tbody tr th {\n",
       "        vertical-align: top;\n",
       "    }\n",
       "\n",
       "    .dataframe thead th {\n",
       "        text-align: right;\n",
       "    }\n",
       "</style>\n",
       "<table border=\"1\" class=\"dataframe\">\n",
       "  <thead>\n",
       "    <tr style=\"text-align: right;\">\n",
       "      <th></th>\n",
       "      <th>A</th>\n",
       "      <th>B</th>\n",
       "      <th>python</th>\n",
       "    </tr>\n",
       "  </thead>\n",
       "  <tbody>\n",
       "    <tr>\n",
       "      <th>0</th>\n",
       "      <td>1</td>\n",
       "      <td>5</td>\n",
       "      <td>True</td>\n",
       "    </tr>\n",
       "    <tr>\n",
       "      <th>1</th>\n",
       "      <td>2</td>\n",
       "      <td>6</td>\n",
       "      <td>True</td>\n",
       "    </tr>\n",
       "    <tr>\n",
       "      <th>2</th>\n",
       "      <td>3</td>\n",
       "      <td>7</td>\n",
       "      <td>False</td>\n",
       "    </tr>\n",
       "    <tr>\n",
       "      <th>3</th>\n",
       "      <td>4</td>\n",
       "      <td>8</td>\n",
       "      <td>False</td>\n",
       "    </tr>\n",
       "  </tbody>\n",
       "</table>\n",
       "</div>"
      ],
      "text/plain": [
       "   A  B  python\n",
       "0  1  5    True\n",
       "1  2  6    True\n",
       "2  3  7   False\n",
       "3  4  8   False"
      ]
     },
     "execution_count": 18,
     "metadata": {},
     "output_type": "execute_result"
    }
   ],
   "source": [
    "import pandas as pd\n",
    "\n",
    "var2 = pd.DataFrame({\"A\" : [1,2,3,4], \"B\" : [5,6,7,8]})\n",
    "\n",
    "var2[\"python\"] = var2[\"A\"] <= 2\n",
    "\n",
    "var2"
   ]
  },
  {
   "cell_type": "code",
   "execution_count": null,
   "id": "a7cf1d1f-bd31-4bfa-be92-e95d03084f8d",
   "metadata": {},
   "outputs": [],
   "source": []
  }
 ],
 "metadata": {
  "kernelspec": {
   "display_name": "Python 3 (ipykernel)",
   "language": "python",
   "name": "python3"
  },
  "language_info": {
   "codemirror_mode": {
    "name": "ipython",
    "version": 3
   },
   "file_extension": ".py",
   "mimetype": "text/x-python",
   "name": "python",
   "nbconvert_exporter": "python",
   "pygments_lexer": "ipython3",
   "version": "3.10.11"
  }
 },
 "nbformat": 4,
 "nbformat_minor": 5
}
