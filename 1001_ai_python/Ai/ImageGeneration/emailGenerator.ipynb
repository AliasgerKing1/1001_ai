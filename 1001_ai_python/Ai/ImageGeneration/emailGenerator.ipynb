{
 "cells": [
  {
   "cell_type": "code",
   "execution_count": 3,
   "metadata": {},
   "outputs": [],
   "source": [
    "from selenium import webdriver\n",
    "from selenium.webdriver.support.ui import WebDriverWait\n",
    "from selenium.webdriver.chrome.options import Options\n",
    "from selenium.webdriver.common.by import By\n",
    "from selenium.webdriver.common.keys import Keys\n",
    "from selenium.webdriver.support import expected_conditions as ec\n",
    "from random_strings import random_string\n",
    "import time\n",
    "import pyperclip\n",
    "import keyboard\n"
   ]
  },
  {
   "cell_type": "code",
   "execution_count": 5,
   "metadata": {},
   "outputs": [],
   "source": [
    "# Initialize the Firefox WebDriver\n",
    "driver = webdriver.Firefox()\n",
    "\n",
    "# Open the website\n",
    "driver.get('https://www.emailnator.com/')\n",
    "\n",
    "wait = WebDriverWait(driver, 10)\n",
    "\n",
    "# in to execute_script method\n",
    "js_code = \"arguments[0].scrollIntoView();\"\n",
    "\n",
    "extensionCheckBox = driver.find_element(By.NAME, \"domain\")\n",
    "# Execute the JS script\n",
    "driver.execute_script(js_code, extensionCheckBox)\n",
    "\n",
    "checkbox = wait.until(ec.visibility_of_element_located((By.NAME, \"domain\")))\n",
    "# If it's selected, deselect it by clicking it\n",
    "checkbox.click()\n",
    "checkbox = wait.until(ec.visibility_of_element_located((By.NAME, \"plusGmail\")))\n",
    "# If it's selected, deselect it by clicking it\n",
    "checkbox.click()\n",
    "checkbox = wait.until(ec.visibility_of_element_located((By.NAME, \"googleMail\")))\n",
    "# If it's selected, deselect it by clicking it\n",
    "checkbox.click()\n",
    "\n",
    "generateBtn = wait.until(ec.visibility_of_element_located((By.XPATH, \"/html/body/div[1]/div/main/div[1]/div/div/div/div[2]/div/div[5]/div/button\")))\n",
    "generateBtn.click()\n",
    "\n",
    "goToEmail = \"/html/body/div[1]/div/main/div[1]/div/div/div/div[2]/div/div[1]/input\"\n",
    "\n",
    "# in to execute_script method\n",
    "js_code = \"arguments[0].scrollIntoView();\"\n",
    "\n",
    "\n",
    "extensionCheckBox2 = driver.find_element(By.XPATH, goToEmail)\n",
    "# Execute the JS script\n",
    "driver.execute_script(js_code, extensionCheckBox2)\n",
    "\n",
    "GoBtn = wait.until(ec.visibility_of_element_located((By.XPATH, goToEmail)))\n",
    "\n",
    "# Get the value of the email input field\n",
    "go_btn_value = GoBtn.get_attribute('value')\n",
    "\n",
    "# Text you want to save to the clipboard\n",
    "\n",
    "# Save the text to the clipboard\n",
    "pyperclip.copy(go_btn_value)\n",
    "while True :\n",
    "        if keyboard.is_pressed('ctrl+q'):\n",
    "                print(\"Exiting the loop...\")\n",
    "                break\n",
    "        generateBtn = wait.until(ec.visibility_of_element_located((By.XPATH, \"/html/body/div[1]/div/main/div[1]/div/div/div/div[2]/div/div[5]/div/button\")))\n",
    "        generateBtn.click()\n",
    "\n",
    "        GoBtn = wait.until(ec.visibility_of_element_located((By.XPATH, goToEmail)))\n",
    "\n",
    "        # Get the value of the email input field\n",
    "        go_btn_value = GoBtn.get_attribute('value')\n",
    "\n",
    "        # Save the text to the clipboard\n",
    "        pyperclip.copy(go_btn_value)\n",
    "        with open('email/email.csv', 'a') as f:\n",
    "                f.writelines(f\"\\n{pyperclip.paste()},\")\n",
    "        time.sleep(2)\n"
   ]
  },
  {
   "cell_type": "code",
   "execution_count": 7,
   "metadata": {},
   "outputs": [],
   "source": [
    "from selenium import webdriver\n",
    "from selenium.webdriver.support.ui import WebDriverWait\n",
    "from selenium.webdriver.chrome.options import Options\n",
    "from selenium.webdriver.common.by import By\n",
    "from selenium.webdriver.common.keys import Keys\n",
    "from selenium.webdriver.support import expected_conditions as ec\n",
    "from random_strings import random_string\n",
    "import time\n",
    "import pyperclip\n",
    "import keyboard"
   ]
  },
  {
   "cell_type": "code",
   "execution_count": 14,
   "metadata": {},
   "outputs": [
    {
     "name": "stdout",
     "output_type": "stream",
     "text": [
      "https://www.emailnator.com/inbox#s.e.d.en.r.od.e.o@gmail.com\n"
     ]
    },
    {
     "name": "stderr",
     "output_type": "stream",
     "text": [
      "The version of firefox cannot be detected. Trying with latest driver version\n"
     ]
    },
    {
     "name": "stdout",
     "output_type": "stream",
     "text": [
      "The text 'Your confirmation code is ' was not found in the element.\n"
     ]
    }
   ],
   "source": [
    "# Open the CSV file in read mode\n",
    "with open(r\"C:\\\\Users\\\\Aliasger B\\\\1001_ai\\\\1001_ai_python\\\\Ai\\\\ImageGeneration\\\\email\\\\email.csv\", \"r\") as email_list:\n",
    "    lines = email_list.readlines()\n",
    "\n",
    "# Check if there are lines in the file\n",
    "if lines:\n",
    "    # Get the last line from the list of lines\n",
    "    last_line = lines[1]\n",
    "\n",
    "    # Split the last line by a comma to get email and API key\n",
    "    email = last_line.strip()\n",
    "    \n",
    "    complete_get_url = f\"https://www.emailnator.com/inbox#{email}\"\n",
    "    print(complete_get_url)\n",
    "    # Initialize the Firefox WebDriver\n",
    "    driver = webdriver.Firefox()\n",
    "\n",
    "    # Open the website\n",
    "    driver.get(complete_get_url)\n",
    "\n",
    "    wait = WebDriverWait(driver, 10)\n",
    "    # in to execute_script method\n",
    "    js_code = \"arguments[0].scrollIntoView();\"\n",
    "\n",
    "    extensionCheckBox = driver.find_element(By.XPATH, \"/html/body/div[1]/div/section/div/div/div[3]/div/div[2]/div[2]/div/table/tbody\")\n",
    "    # Execute the JS script\n",
    "    driver.execute_script(js_code, extensionCheckBox)\n",
    "\n",
    "    leonardo_email = wait.until(ec.presence_of_element_located((By.XPATH, \"/html/body/div[1]/div/section/div/div/div[3]/div/div[2]/div[2]/div/table/tbody/tr[2]/td/a/table/tbody/tr/td[1]\")))\n",
    "\n",
    "    # Check if the element's text contains \"Leonardo Ai\"\n",
    "    if \"Leonardo Ai\" in leonardo_email.text:\n",
    "        # Click the element\n",
    "        leonardo_email.click()\n",
    "    else:\n",
    "        print(\"The text 'Leonardo Ai' was not found in the element.\")\n",
    "\n",
    "    leonardo_email_code = wait.until(ec.presence_of_element_located((By.XPATH, \"/html/body/div[1]/div/section/div/div/div[3]/div/div/div[2]/div/div\")))\n",
    "\n",
    "    # Check if the element's text contains \"Your confirmation code is\"\n",
    "    if \"Your confirmation code is \" in leonardo_email_code.text:\n",
    "        # Extract the text after \"Your confirmation code is\"\n",
    "        confirmation_code = leonardo_email_code.text.split(\"Your confirmation code is \", 1)[1]\n",
    "        # Copy the confirmation code to the clipboard\n",
    "        pyperclip.copy(confirmation_code)\n",
    "        # Print the confirmation code\n",
    "        print(f\"The confirmation code is: {confirmation_code}\")\n",
    "    else:\n",
    "        print(\"The text 'Your confirmation code is ' was not found in the element.\")\n",
    "    \n",
    "    \n",
    "else:\n",
    "    print(\"The file is empty or does not exist.\")"
   ]
  },
  {
   "cell_type": "code",
   "execution_count": null,
   "metadata": {},
   "outputs": [],
   "source": []
  }
 ],
 "metadata": {
  "kernelspec": {
   "display_name": "Python 3",
   "language": "python",
   "name": "python3"
  },
  "language_info": {
   "codemirror_mode": {
    "name": "ipython",
    "version": 3
   },
   "file_extension": ".py",
   "mimetype": "text/x-python",
   "name": "python",
   "nbconvert_exporter": "python",
   "pygments_lexer": "ipython3",
   "version": "3.11.4"
  },
  "orig_nbformat": 4
 },
 "nbformat": 4,
 "nbformat_minor": 2
}
