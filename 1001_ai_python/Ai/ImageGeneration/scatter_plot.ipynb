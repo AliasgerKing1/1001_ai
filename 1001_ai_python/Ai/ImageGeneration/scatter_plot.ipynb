{
 "cells": [
  {
   "cell_type": "code",
   "execution_count": null,
   "id": "d1adcc73-ade8-4f6f-9a26-a0ab9585fb0f",
   "metadata": {},
   "outputs": [],
   "source": [
    "from matplotlib import pyplot as plt\n",
    "import pandas as pd\n",
    "import numpy as np\n",
    "\n",
    "day = [1, 2, 3, 4, 5, 6, 7, 8]\n",
    "no = [80, 60, 42, 14, 74 , 53 , 85, 13]\n",
    "no2 = [48, 24, 97, 97, 74 , 51 , 65, 43]\n",
    "\n",
    "plt.title(\"Scatter Plot\", fontsize=15)\n",
    "plt.xlabel('day')\n",
    "plt.ylabel('no')\n",
    "\n",
    "colors = [10, 43, 84, 1, 53, 86, 3, 39]\n",
    "# colors = ['r', 'b', 'g', 'm', 'r', 'g', 'y', 'b']\n",
    "sizes = [1000, 400, 600, 2300 , 100 , 600 , 700 , 1300]\n",
    "\n",
    "plt.scatter(day,no, c=colors, s=sizes,marker='*', cmap='viridis')\n",
    "plt.scatter(day,no2, c='r', s=sizes, marker='*')\n",
    "\n",
    "# plt.scatter(day,no, c=colors, s=sizes, alpha=0.4,marker='*', edgecolor='g', linewidth=4)\n",
    "\n",
    "cb_label= plt.colorbar()\n",
    "cb_label.set_label(\"Color Bar\")\n",
    "plt.show()"
   ]
  }
 ],
 "metadata": {
  "kernelspec": {
   "display_name": "Python 3 (ipykernel)",
   "language": "python",
   "name": "python3"
  },
  "language_info": {
   "codemirror_mode": {
    "name": "ipython",
    "version": 3
   },
   "file_extension": ".py",
   "mimetype": "text/x-python",
   "name": "python",
   "nbconvert_exporter": "python",
   "pygments_lexer": "ipython3",
   "version": "3.10.11"
  }
 },
 "nbformat": 4,
 "nbformat_minor": 5
}
