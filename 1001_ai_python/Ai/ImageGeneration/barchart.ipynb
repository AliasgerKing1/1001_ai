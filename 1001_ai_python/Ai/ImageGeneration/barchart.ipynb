{
 "cells": [
  {
   "cell_type": "code",
   "execution_count": null,
   "id": "562e5e5e-cf0c-4905-9e12-bebd28c95df4",
   "metadata": {},
   "outputs": [],
   "source": [
    "from matplotlib import pyplot as plt\n",
    "import pandas as pd\n",
    "import numpy as np\n",
    "\n",
    "x = ['Python', 'java', 'Javascript', 'Flutter']\n",
    "y = [90, 73, 95, 53]\n",
    "z = [80, 60, 42, 14]\n",
    "width= 0.2\n",
    "p= np.arange(len(x))\n",
    "p1 = [j + width for j in p]\n",
    "\n",
    "plt.title('Popularity Chart')\n",
    "plt.xlabel('Language')\n",
    "plt.ylabel('Popularity')\n",
    "\n",
    "plt.bar(p, y, width, color='r', label='year 2023')\n",
    "plt.bar(p1, z, width, color='g', label='year 2021')\n",
    "\n",
    "plt.xticks(p+width/2, x, rotation=20)\n",
    "plt.legend()\n",
    "plt.show()"
   ]
  }
 ],
 "metadata": {
  "kernelspec": {
   "display_name": "Python 3 (ipykernel)",
   "language": "python",
   "name": "python3"
  },
  "language_info": {
   "codemirror_mode": {
    "name": "ipython",
    "version": 3
   },
   "file_extension": ".py",
   "mimetype": "text/x-python",
   "name": "python",
   "nbconvert_exporter": "python",
   "pygments_lexer": "ipython3",
   "version": "3.10.11"
  }
 },
 "nbformat": 4,
 "nbformat_minor": 5
}
