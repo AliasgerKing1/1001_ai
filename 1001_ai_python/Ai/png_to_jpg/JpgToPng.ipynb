{
 "cells": [
  {
   "cell_type": "code",
   "execution_count": 7,
   "id": "09ddc4d2",
   "metadata": {},
   "outputs": [
    {
     "name": "stdout",
     "output_type": "stream",
     "text": [
      "Requirement already satisfied: selenium in c:\\users\\aliasger b\\appdata\\local\\programs\\python\\python311\\lib\\site-packages (4.11.2)Note: you may need to restart the kernel to use updated packages.\n",
      "\n",
      "Requirement already satisfied: urllib3[socks]<3,>=1.26 in c:\\users\\aliasger b\\appdata\\local\\programs\\python\\python311\\lib\\site-packages (from selenium) (2.0.4)\n",
      "Requirement already satisfied: trio~=0.17 in c:\\users\\aliasger b\\appdata\\local\\programs\\python\\python311\\lib\\site-packages (from selenium) (0.22.2)\n",
      "Requirement already satisfied: trio-websocket~=0.9 in c:\\users\\aliasger b\\appdata\\local\\programs\\python\\python311\\lib\\site-packages (from selenium) (0.10.3)\n",
      "Requirement already satisfied: certifi>=2021.10.8 in c:\\users\\aliasger b\\appdata\\local\\programs\\python\\python311\\lib\\site-packages (from selenium) (2023.7.22)\n",
      "Requirement already satisfied: attrs>=20.1.0 in c:\\users\\aliasger b\\appdata\\local\\programs\\python\\python311\\lib\\site-packages (from trio~=0.17->selenium) (23.1.0)\n",
      "Requirement already satisfied: sortedcontainers in c:\\users\\aliasger b\\appdata\\local\\programs\\python\\python311\\lib\\site-packages (from trio~=0.17->selenium) (2.4.0)\n",
      "Requirement already satisfied: idna in c:\\users\\aliasger b\\appdata\\local\\programs\\python\\python311\\lib\\site-packages (from trio~=0.17->selenium) (3.4)\n",
      "Requirement already satisfied: outcome in c:\\users\\aliasger b\\appdata\\local\\programs\\python\\python311\\lib\\site-packages (from trio~=0.17->selenium) (1.2.0)\n",
      "Requirement already satisfied: sniffio in c:\\users\\aliasger b\\appdata\\local\\programs\\python\\python311\\lib\\site-packages (from trio~=0.17->selenium) (1.3.0)\n",
      "Requirement already satisfied: cffi>=1.14 in c:\\users\\aliasger b\\appdata\\local\\programs\\python\\python311\\lib\\site-packages (from trio~=0.17->selenium) (1.15.1)\n",
      "Requirement already satisfied: exceptiongroup in c:\\users\\aliasger b\\appdata\\local\\programs\\python\\python311\\lib\\site-packages (from trio-websocket~=0.9->selenium) (1.1.3)\n",
      "Requirement already satisfied: wsproto>=0.14 in c:\\users\\aliasger b\\appdata\\local\\programs\\python\\python311\\lib\\site-packages (from trio-websocket~=0.9->selenium) (1.2.0)\n",
      "Requirement already satisfied: pysocks!=1.5.7,<2.0,>=1.5.6 in c:\\users\\aliasger b\\appdata\\local\\programs\\python\\python311\\lib\\site-packages (from urllib3[socks]<3,>=1.26->selenium) (1.7.1)\n",
      "Requirement already satisfied: pycparser in c:\\users\\aliasger b\\appdata\\local\\programs\\python\\python311\\lib\\site-packages (from cffi>=1.14->trio~=0.17->selenium) (2.21)\n",
      "Requirement already satisfied: h11<1,>=0.9.0 in c:\\users\\aliasger b\\appdata\\local\\programs\\python\\python311\\lib\\site-packages (from wsproto>=0.14->trio-websocket~=0.9->selenium) (0.14.0)\n"
     ]
    }
   ],
   "source": [
    "pip install selenium"
   ]
  },
  {
   "cell_type": "code",
   "execution_count": 29,
   "id": "947cb92f-b861-4cb8-8716-bcab57f21201",
   "metadata": {},
   "outputs": [],
   "source": [
    "from selenium import webdriver\n",
    "from selenium.webdriver.support.ui import WebDriverWait\n",
    "from selenium.webdriver.chrome.options import Options\n",
    "from selenium.webdriver.common.by import By\n",
    "from selenium.webdriver.common.keys import Keys\n",
    "from selenium.webdriver.support import expected_conditions as ec\n",
    "import time"
   ]
  },
  {
   "cell_type": "code",
   "execution_count": 30,
   "id": "250fb5e6",
   "metadata": {},
   "outputs": [],
   "source": [
    "chromeOptions = Options()\n",
    "chromeOptions.add_argument('--start-maximized')"
   ]
  },
  {
   "cell_type": "code",
   "execution_count": 35,
   "id": "e3dcde59",
   "metadata": {},
   "outputs": [
    {
     "name": "stderr",
     "output_type": "stream",
     "text": [
      "The version of firefox cannot be detected. Trying with latest driver version\n"
     ]
    }
   ],
   "source": [
    "driver = webdriver.Firefox()\n",
    "\n",
    "driver.get('https://accounts.kaleido.ai/users/sign_up')\n",
    "\n",
    "wait = WebDriverWait(driver, 5)\n",
    "username_input = wait.until(ec.visibility_of_element_located((By.NAME, \"user[email]\")))\n",
    "username_input.send_keys('l.iagg.ei2.9.o@gmail.com')\n",
    "password_input = wait.until(ec.visibility_of_element_located((By.NAME, \"user[password]\")))\n",
    "password_input.send_keys('password')\n",
    "password_input = wait.until(ec.visibility_of_element_located((By.NAME, \"user[password_confirmation]\")))\n",
    "password_input.send_keys('password')\n",
    "# agree_input = wait.until(ec.visibility_of_element_located((By.XPATH, '//*[@id=\"user_terms_of_service\"]')))\n",
    "# agree_input.click()\n",
    "# submit_button = wait.until(ec.visibility_of_element_located((By.XPATH, \"/html/body/main/div[2]/div[1]/div/form/div[8]/button\")))\n",
    "# submit_button.click()\n",
    "# time.sleep(5)\n",
    "# driver.close()"
   ]
  },
  {
   "cell_type": "code",
   "execution_count": null,
   "id": "488d04cf",
   "metadata": {},
   "outputs": [],
   "source": []
  }
 ],
 "metadata": {
  "kernelspec": {
   "display_name": "Python 3 (ipykernel)",
   "language": "python",
   "name": "python3"
  },
  "language_info": {
   "codemirror_mode": {
    "name": "ipython",
    "version": 3
   },
   "file_extension": ".py",
   "mimetype": "text/x-python",
   "name": "python",
   "nbconvert_exporter": "python",
   "pygments_lexer": "ipython3",
   "version": "3.11.4"
  }
 },
 "nbformat": 4,
 "nbformat_minor": 5
}
