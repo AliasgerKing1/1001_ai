{
 "cells": [
  {
   "cell_type": "code",
   "execution_count": 3,
   "id": "09ddc4d2",
   "metadata": {},
   "outputs": [
    {
     "name": "stdout",
     "output_type": "stream",
     "text": [
      "Requirement already satisfied: selenium in c:\\users\\aliasger b\\appdata\\local\\programs\\python\\python311\\lib\\site-packages (4.11.2)\n",
      "Requirement already satisfied: urllib3[socks]<3,>=1.26 in c:\\users\\aliasger b\\appdata\\local\\programs\\python\\python311\\lib\\site-packages (from selenium) (2.0.4)\n",
      "Requirement already satisfied: trio~=0.17 in c:\\users\\aliasger b\\appdata\\local\\programs\\python\\python311\\lib\\site-packages (from selenium) (0.22.2)\n",
      "Requirement already satisfied: trio-websocket~=0.9 in c:\\users\\aliasger b\\appdata\\local\\programs\\python\\python311\\lib\\site-packages (from selenium) (0.10.3)\n",
      "Requirement already satisfied: certifi>=2021.10.8 in c:\\users\\aliasger b\\appdata\\local\\programs\\python\\python311\\lib\\site-packages (from selenium) (2023.7.22)\n",
      "Requirement already satisfied: attrs>=20.1.0 in c:\\users\\aliasger b\\appdata\\local\\programs\\python\\python311\\lib\\site-packages (from trio~=0.17->selenium) (23.1.0)\n",
      "Requirement already satisfied: sortedcontainers in c:\\users\\aliasger b\\appdata\\local\\programs\\python\\python311\\lib\\site-packages (from trio~=0.17->selenium) (2.4.0)\n",
      "Requirement already satisfied: idna in c:\\users\\aliasger b\\appdata\\local\\programs\\python\\python311\\lib\\site-packages (from trio~=0.17->selenium) (3.4)\n",
      "Requirement already satisfied: outcome in c:\\users\\aliasger b\\appdata\\local\\programs\\python\\python311\\lib\\site-packages (from trio~=0.17->selenium) (1.2.0)\n",
      "Requirement already satisfied: sniffio in c:\\users\\aliasger b\\appdata\\local\\programs\\python\\python311\\lib\\site-packages (from trio~=0.17->selenium) (1.3.0)\n",
      "Requirement already satisfied: cffi>=1.14 in c:\\users\\aliasger b\\appdata\\local\\programs\\python\\python311\\lib\\site-packages (from trio~=0.17->selenium) (1.15.1)\n",
      "Requirement already satisfied: exceptiongroup in c:\\users\\aliasger b\\appdata\\local\\programs\\python\\python311\\lib\\site-packages (from trio-websocket~=0.9->selenium) (1.1.3)\n",
      "Requirement already satisfied: wsproto>=0.14 in c:\\users\\aliasger b\\appdata\\local\\programs\\python\\python311\\lib\\site-packages (from trio-websocket~=0.9->selenium) (1.2.0)\n",
      "Requirement already satisfied: pysocks!=1.5.7,<2.0,>=1.5.6 in c:\\users\\aliasger b\\appdata\\local\\programs\\python\\python311\\lib\\site-packages (from urllib3[socks]<3,>=1.26->selenium) (1.7.1)\n",
      "Requirement already satisfied: pycparser in c:\\users\\aliasger b\\appdata\\local\\programs\\python\\python311\\lib\\site-packages (from cffi>=1.14->trio~=0.17->selenium) (2.21)\n",
      "Requirement already satisfied: h11<1,>=0.9.0 in c:\\users\\aliasger b\\appdata\\local\\programs\\python\\python311\\lib\\site-packages (from wsproto>=0.14->trio-websocket~=0.9->selenium) (0.14.0)\n",
      "Note: you may need to restart the kernel to use updated packages.\n"
     ]
    }
   ],
   "source": [
    "pip install selenium"
   ]
  },
  {
   "cell_type": "code",
   "execution_count": 4,
   "id": "20e99d9d",
   "metadata": {},
   "outputs": [
    {
     "name": "stdout",
     "output_type": "stream",
     "text": [
      "Requirement already satisfied: pyperclip in c:\\users\\aliasger b\\appdata\\local\\programs\\python\\python311\\lib\\site-packages (1.8.2)Note: you may need to restart the kernel to use updated packages.\n",
      "\n"
     ]
    }
   ],
   "source": [
    "pip install pyperclip "
   ]
  },
  {
   "cell_type": "code",
   "execution_count": 5,
   "id": "2a9b21c8",
   "metadata": {},
   "outputs": [
    {
     "name": "stdout",
     "output_type": "stream",
     "text": [
      "Requirement already satisfied: PyAutoGUI in c:\\users\\aliasger b\\appdata\\local\\programs\\python\\python311\\lib\\site-packages (0.9.54)\n",
      "Requirement already satisfied: pymsgbox in c:\\users\\aliasger b\\appdata\\local\\programs\\python\\python311\\lib\\site-packages (from PyAutoGUI) (1.0.9)\n",
      "Requirement already satisfied: pytweening>=1.0.4 in c:\\users\\aliasger b\\appdata\\local\\programs\\python\\python311\\lib\\site-packages (from PyAutoGUI) (1.0.7)\n",
      "Requirement already satisfied: pyscreeze>=0.1.21 in c:\\users\\aliasger b\\appdata\\local\\programs\\python\\python311\\lib\\site-packages (from PyAutoGUI) (0.1.29)\n",
      "Requirement already satisfied: pygetwindow>=0.0.5 in c:\\users\\aliasger b\\appdata\\local\\programs\\python\\python311\\lib\\site-packages (from PyAutoGUI) (0.0.9)\n",
      "Requirement already satisfied: mouseinfo in c:\\users\\aliasger b\\appdata\\local\\programs\\python\\python311\\lib\\site-packages (from PyAutoGUI) (0.1.3)\n",
      "Requirement already satisfied: pyrect in c:\\users\\aliasger b\\appdata\\local\\programs\\python\\python311\\lib\\site-packages (from pygetwindow>=0.0.5->PyAutoGUI) (0.2.0)\n",
      "Requirement already satisfied: pyscreenshot in c:\\users\\aliasger b\\appdata\\local\\programs\\python\\python311\\lib\\site-packages (from pyscreeze>=0.1.21->PyAutoGUI) (3.1)\n",
      "Requirement already satisfied: Pillow>=9.3.0 in c:\\users\\aliasger b\\appdata\\local\\programs\\python\\python311\\lib\\site-packages (from pyscreeze>=0.1.21->PyAutoGUI) (10.0.0)\n",
      "Requirement already satisfied: pyperclip in c:\\users\\aliasger b\\appdata\\local\\programs\\python\\python311\\lib\\site-packages (from mouseinfo->PyAutoGUI) (1.8.2)\n",
      "Requirement already satisfied: EasyProcess in c:\\users\\aliasger b\\appdata\\local\\programs\\python\\python311\\lib\\site-packages (from pyscreenshot->pyscreeze>=0.1.21->PyAutoGUI) (1.1)\n",
      "Requirement already satisfied: entrypoint2 in c:\\users\\aliasger b\\appdata\\local\\programs\\python\\python311\\lib\\site-packages (from pyscreenshot->pyscreeze>=0.1.21->PyAutoGUI) (1.1)\n",
      "Requirement already satisfied: mss in c:\\users\\aliasger b\\appdata\\local\\programs\\python\\python311\\lib\\site-packages (from pyscreenshot->pyscreeze>=0.1.21->PyAutoGUI) (9.0.1)\n",
      "Note: you may need to restart the kernel to use updated packages.\n"
     ]
    }
   ],
   "source": [
    "pip install PyAutoGUI"
   ]
  },
  {
   "cell_type": "code",
   "execution_count": null,
   "id": "090eff17",
   "metadata": {},
   "outputs": [],
   "source": []
  },
  {
   "cell_type": "code",
   "execution_count": 6,
   "id": "947cb92f-b861-4cb8-8716-bcab57f21201",
   "metadata": {},
   "outputs": [],
   "source": [
    "from selenium import webdriver\n",
    "from selenium.webdriver.support.ui import WebDriverWait\n",
    "from selenium.webdriver.chrome.options import Options\n",
    "from selenium.webdriver.common.by import By\n",
    "from selenium.webdriver.common.keys import Keys\n",
    "from selenium.webdriver.support import expected_conditions as ec\n",
    "import time"
   ]
  },
  {
   "cell_type": "code",
   "execution_count": 7,
   "id": "250fb5e6",
   "metadata": {},
   "outputs": [],
   "source": [
    "chromeOptions = Options()\n",
    "chromeOptions.add_argument('--start-maximized')"
   ]
  },
  {
   "cell_type": "code",
   "execution_count": 27,
   "id": "e3dcde59",
   "metadata": {},
   "outputs": [
    {
     "name": "stderr",
     "output_type": "stream",
     "text": [
      "The version of firefox cannot be detected. Trying with latest driver version\n"
     ]
    },
    {
     "ename": "TimeoutException",
     "evalue": "Message: \nStacktrace:\nRemoteError@chrome://remote/content/shared/RemoteError.sys.mjs:8:8\nWebDriverError@chrome://remote/content/shared/webdriver/Errors.sys.mjs:187:5\nNoSuchElementError@chrome://remote/content/shared/webdriver/Errors.sys.mjs:505:5\nelement.find/</<@chrome://remote/content/marionette/element.sys.mjs:135:16\n",
     "output_type": "error",
     "traceback": [
      "\u001b[1;31m---------------------------------------------------------------------------\u001b[0m",
      "\u001b[1;31mTimeoutException\u001b[0m                          Traceback (most recent call last)",
      "Cell \u001b[1;32mIn[27], line 83\u001b[0m\n\u001b[0;32m     79\u001b[0m \u001b[39m# CaptchaBox = wait.until(ec.visibility_of_element_located((By.XPATH, \"/html/body/div[1]/main/div[2]/div/div[2]/div/div[1]/div/div/div[1]/div[2]/div[1]/div/div/div/div/div/iframe\")))\u001b[39;00m\n\u001b[0;32m     80\u001b[0m \u001b[39m# CaptchaBox.click()\u001b[39;00m\n\u001b[0;32m     82\u001b[0m time\u001b[39m.\u001b[39msleep(\u001b[39m3\u001b[39m)\n\u001b[1;32m---> 83\u001b[0m download_remove_bg \u001b[39m=\u001b[39m wait\u001b[39m.\u001b[39;49muntil(ec\u001b[39m.\u001b[39;49mvisibility_of_element_located((By\u001b[39m.\u001b[39;49mXPATH, \u001b[39m\"\u001b[39;49m\u001b[39m/html/body/div[1]/main/div[2]/div/div[2]/div/div[1]/div/div/div[2]/div/div[1]/div[1]/div[1]/a\u001b[39;49m\u001b[39m\"\u001b[39;49m)))\n\u001b[0;32m     84\u001b[0m \u001b[39m# If it's selected, deselect it by clicking it\u001b[39;00m\n\u001b[0;32m     85\u001b[0m download_remove_bg\u001b[39m.\u001b[39mclick()\n",
      "File \u001b[1;32mc:\\Users\\Aliasger B\\AppData\\Local\\Programs\\Python\\Python311\\Lib\\site-packages\\selenium\\webdriver\\support\\wait.py:95\u001b[0m, in \u001b[0;36mWebDriverWait.until\u001b[1;34m(self, method, message)\u001b[0m\n\u001b[0;32m     93\u001b[0m     \u001b[39mif\u001b[39;00m time\u001b[39m.\u001b[39mmonotonic() \u001b[39m>\u001b[39m end_time:\n\u001b[0;32m     94\u001b[0m         \u001b[39mbreak\u001b[39;00m\n\u001b[1;32m---> 95\u001b[0m \u001b[39mraise\u001b[39;00m TimeoutException(message, screen, stacktrace)\n",
      "\u001b[1;31mTimeoutException\u001b[0m: Message: \nStacktrace:\nRemoteError@chrome://remote/content/shared/RemoteError.sys.mjs:8:8\nWebDriverError@chrome://remote/content/shared/webdriver/Errors.sys.mjs:187:5\nNoSuchElementError@chrome://remote/content/shared/webdriver/Errors.sys.mjs:505:5\nelement.find/</<@chrome://remote/content/marionette/element.sys.mjs:135:16\n"
     ]
    }
   ],
   "source": [
    "import pyperclip\n",
    "\n",
    "driver = webdriver.Firefox()\n",
    "\n",
    "driver.get('https://www.emailnator.com/')\n",
    "\n",
    "wait = WebDriverWait(driver, 10)\n",
    "\n",
    "# in to execute_script method\n",
    "js_code = \"arguments[0].scrollIntoView();\"\n",
    "\n",
    "extensionCheckBox = driver.find_element(By.NAME, \"domain\")\n",
    "# Execute the JS script\n",
    "driver.execute_script(js_code, extensionCheckBox)\n",
    "\n",
    "checkbox = wait.until(ec.visibility_of_element_located((By.NAME, \"domain\")))\n",
    "# If it's selected, deselect it by clicking it\n",
    "checkbox.click()\n",
    "checkbox = wait.until(ec.visibility_of_element_located((By.NAME, \"plusGmail\")))\n",
    "# If it's selected, deselect it by clicking it\n",
    "checkbox.click()\n",
    "checkbox = wait.until(ec.visibility_of_element_located((By.NAME, \"googleMail\")))\n",
    "# If it's selected, deselect it by clicking it\n",
    "checkbox.click()\n",
    "\n",
    "generateBtn = wait.until(ec.visibility_of_element_located((By.XPATH, \"/html/body/div[1]/div/main/div[1]/div/div/div/div[2]/div/div[5]/div/button\")))\n",
    "generateBtn.click()\n",
    "\n",
    "goToEmail = \"/html/body/div[1]/div/main/div[1]/div/div/div/div[2]/div/div[1]/input\"\n",
    "\n",
    "# in to execute_script method\n",
    "js_code = \"arguments[0].scrollIntoView();\"\n",
    "\n",
    "\n",
    "extensionCheckBox2 = driver.find_element(By.XPATH, goToEmail)\n",
    "# Execute the JS script\n",
    "driver.execute_script(js_code, extensionCheckBox2)\n",
    "\n",
    "GoBtn = wait.until(ec.visibility_of_element_located((By.XPATH, goToEmail)))\n",
    "\n",
    "# Get the value of the email input field\n",
    "go_btn_value = GoBtn.get_attribute('value')\n",
    "\n",
    "# Text you want to save to the clipboard\n",
    "\n",
    "# Save the text to the clipboard\n",
    "pyperclip.copy(go_btn_value)\n",
    "\n",
    "\n",
    "driver.get('https://www.remove.bg/upload')\n",
    "\n",
    "wait = WebDriverWait(driver, 5)\n",
    "\n",
    "# You can now paste the text from the clipboard using Ctrl+V or by calling pyperclip.paste()\n",
    "\n",
    "uploadBtn = wait.until(ec.element_to_be_clickable((By.XPATH, '/html/body/div[1]/main/div[2]/div/div/div/div[1]/div/div[1]/div[2]/button')))\n",
    "uploadBtn.click()\n",
    "\n",
    "image = 'card.jpg'\n",
    "imagePath = r'C:\\Users\\Aliasger B\\1001_ai\\1001_ai_python\\Ai\\png_to_jpg\\jpg'\n",
    "\n",
    "import pyautogui\n",
    "screenWidth, screenHeight = pyautogui.size()\n",
    "\n",
    "if screenWidth == 1366 and screenHeight == 768 :\n",
    "    pyautogui.click(303, 46)\n",
    "\n",
    "    # Select all text (Ctrl + A)\n",
    "    pyautogui.hotkey('ctrl', 'a')\n",
    "\n",
    "    # Delete the selected text (Backspace)\n",
    "    pyautogui.press('backspace')\n",
    "    pyautogui.write(imagePath, interval=0.025)\n",
    "    pyautogui.press('enter')\n",
    "    pyautogui.click(256, 415)\n",
    "    pyautogui.write(image, interval=0.025)\n",
    "    pyautogui.click(561, 445)\n",
    "    # CaptchaBox = wait.until(ec.visibility_of_element_located((By.XPATH, \"/html/body/div[1]/main/div[2]/div/div[2]/div/div[1]/div/div/div[1]/div[2]/div[1]/div/div/div/div/div/iframe\")))\n",
    "    # CaptchaBox.click()\n",
    "\n",
    "    time.sleep(3)\n",
    "    download_remove_bg = wait.until(ec.visibility_of_element_located((By.XPATH, \"/html/body/div[1]/main/div[2]/div/div[2]/div/div[1]/div/div/div[2]/div/div[1]/div[1]/div[1]/a\")))\n",
    "    # If it's selected, deselect it by clicking it\n",
    "    download_remove_bg.click()\n",
    "\n",
    "    driver.get('https://vanceai.com/')\n",
    "\n",
    "    wait = WebDriverWait(driver, 5)\n",
    "\n",
    "    EnhanceStartBtn = wait.until(ec.element_to_be_clickable((By.XPATH, '/html/body/div/div/div/div[2]/div[3]/div[1]/div[1]/div[2]/div/div/div[1]')))\n",
    "    EnhanceStartBtn.click()\n",
    "\n",
    "    k4Btn = wait.until(ec.element_to_be_clickable((By.XPATH, '/html/body/div/div/div/div[2]/div[3]/div[1]/div[2]/div/div/div/div[2]/div[2]/div[2]/div/div[1]/div/div/div[2]/div[2]/div[1]/div[1]/div[7]/span')))\n",
    "    k4Btn.click()\n",
    "    AddImageBtn = wait.until(ec.element_to_be_clickable((By.XPATH, '/html/body/div[1]/div/div/div[2]/div[3]/div[1]/div[2]/div/div/div/div[2]/div[1]/div[1]/div[2]/div[1]/div/div/div/div/div[5]')))\n",
    "    AddImageBtn.click()\n",
    "    pyautogui.click(281, 46)\n",
    "\n",
    "    # Select all text (Ctrl + A)\n",
    "    pyautogui.hotkey('ctrl', 'a')\n",
    "\n",
    "    # Delete the selected text (Backspace)\n",
    "    pyautogui.press('backspace')\n",
    "\n",
    "    pyautogui.write(imagePath, interval=0.25)\n",
    "    pyautogui.press('enter')\n",
    "    pyautogui.click(302, 415)\n",
    "    pyautogui.write(image, interval=0.25)\n",
    "    pyautogui.click(571, 445)\n",
    "    signupInput = wait.until(ec.visibility_of_element_located((By.XPATH, \"/html/body/div[1]/div/div/div[3]/div/div[2]/div[2]/div/div[1]/div[2]/div/div/input\")))\n",
    "    signupInput.send_keys(pyperclip.paste())\n",
    "    \n",
    "    \n",
    "# username_input = wait.until(ec.visibility_of_element_located((By.NAME, \"user[email]\")))\n",
    "# username_input.send_keys('l.iagg.ei2.9.o@gmail.com')\n",
    "# password_input = wait.until(ec.visibility_of_element_located((By.NAME, \"user[password]\")))\n",
    "# password_input.send_keys('password')\n",
    "# password_input = wait.until(ec.visibility_of_element_located((By.NAME, \"user[password_confirmation]\")))\n",
    "# password_input.send_keys('password')\n",
    "# submit_button = wait.until(ec.visibility_of_element_located((By.XPATH, \"/html/body/main/div[2]/div[1]/div/form/div[8]/button\")))\n",
    "# submit_button.click()\n",
    "# time.sleep(5)\n",
    "# driver.close()"
   ]
  },
  {
   "cell_type": "code",
   "execution_count": null,
   "id": "488d04cf",
   "metadata": {},
   "outputs": [],
   "source": []
  }
 ],
 "metadata": {
  "kernelspec": {
   "display_name": "Python 3 (ipykernel)",
   "language": "python",
   "name": "python3"
  },
  "language_info": {
   "codemirror_mode": {
    "name": "ipython",
    "version": 3
   },
   "file_extension": ".py",
   "mimetype": "text/x-python",
   "name": "python",
   "nbconvert_exporter": "python",
   "pygments_lexer": "ipython3",
   "version": "3.11.4"
  }
 },
 "nbformat": 4,
 "nbformat_minor": 5
}
